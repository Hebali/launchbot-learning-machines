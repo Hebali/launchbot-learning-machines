{
 "cells": [
  {
   "cell_type": "markdown",
   "metadata": {},
   "source": [
    "# TensorFlow Tutorial: Matrix Multiplication\n",
    "\n",
    "This tutorial is based on [TensorFlow Basic Usage](https://www.tensorflow.org/versions/r0.11/get_started/basic_usage.html).\n",
    "\n",
    "For a refresher on matrix multiplication, see [Understanding Matrix Multiplication](http://www.patrickhebron.com/learning-machines/week4.html#understanding_matrix_multiplication)."
   ]
  },
  {
   "cell_type": "markdown",
   "metadata": {},
   "source": [
    "**Let's review matrix multiplication in numpy:**"
   ]
  },
  {
   "cell_type": "code",
   "execution_count": 1,
   "metadata": {
    "collapsed": false
   },
   "outputs": [
    {
     "name": "stdout",
     "output_type": "stream",
     "text": [
      "[[ -26.    2.]\n",
      " [ 106.  -16.]]\n"
     ]
    }
   ],
   "source": [
    "# Import numpy:\n",
    "import numpy as np\n",
    "\n",
    "# Create input matrices:\n",
    "X = np.array( [ [ 2.0, -4.0, 6.0 ], [ 5.0, 7.0, -3.0 ] ] )\n",
    "Y = np.array( [ [ 8.0, -5.0 ], [ 9.0, 3.0 ], [ -1.0, 4.0 ] ] )\n",
    "\n",
    "# Perform matrix multiplication:\n",
    "Z = np.dot( X, Y )\n",
    "\n",
    "print Z"
   ]
  },
  {
   "cell_type": "markdown",
   "metadata": {},
   "source": [
    "**Now let's try to do the same thing in TensorFlow:**"
   ]
  },
  {
   "cell_type": "code",
   "execution_count": 3,
   "metadata": {
    "collapsed": false
   },
   "outputs": [
    {
     "name": "stdout",
     "output_type": "stream",
     "text": [
      "Tensor(\"MatMul:0\", shape=(2, 2), dtype=float32)\n"
     ]
    }
   ],
   "source": [
    "# Import tensorflow:\n",
    "import tensorflow as tf\n",
    "\n",
    "# Create input matrices:\n",
    "X = tf.constant( [ [ 2.0, -4.0, 6.0 ], [ 5.0, 7.0, -3.0 ] ] )\n",
    "Y = tf.constant( [ [ 8.0, -5.0 ], [ 9.0, 3.0 ], [ -1.0, 4.0 ] ] )\n",
    "\n",
    "# Create matrix multiplication operation:\n",
    "Z = tf.matmul( X, Y )\n",
    "\n",
    "print Z"
   ]
  },
  {
   "cell_type": "markdown",
   "metadata": {},
   "source": [
    "**Where's the resulting matrix?**\n",
    "\n",
    "Notice that in the NumPy code, calling:\n",
    "\n",
    "```python \n",
    "print Z \n",
    "```\n",
    "\n",
    "prints the resulting matrix:\n",
    "\n",
    "```python \n",
    "[[ -26.    2.]\n",
    " [ 106.  -16.]]\n",
    "```\n",
    "\n",
    "But in the TensorFlow code, the ```print``` call gives us: \n",
    "\n",
    "```python\n",
    "Tensor(\"MatMul_2:0\", shape=(2, 2), dtype=float32)\n",
    "```\n",
    "\n",
    "TensorFlow uses a somewhat different programming model from what we're used to in conventional Python code.\n",
    "\n",
    "Here's a brief overview from the [TensorFlow Basic Usage](https://www.tensorflow.org/versions/r0.9/get_started/basic_usage.html) tutorial:\n",
    "\n",
    "**Overview:**\n",
    "\n",
    "TensorFlow is a programming system in which you represent computations as graphs. Nodes in the graph are called ops (short for operations). An op takes zero or more Tensors, performs some computation, and produces zero or more Tensors. A Tensor is a typed multi-dimensional array. For example, you can represent a mini-batch of images as a 4-D array of floating point numbers with dimensions [batch, height, width, channels].\n",
    "\n",
    "A TensorFlow graph is a description of computations. To compute anything, a graph must be launched in a Session. A Session places the graph ops onto Devices, such as CPUs or GPUs, and provides methods to execute them. These methods return tensors produced by ops as numpy ndarray objects in Python, and as tensorflow::Tensor instances in C and C++.\n",
    "\n",
    "TensorFlow programs are usually structured into a construction phase, that assembles a graph, and an execution phase that uses a session to execute ops in the graph.\n",
    "\n",
    "For example, it is common to create a graph to represent and train a neural network in the construction phase, and then repeatedly execute a set of training ops in the graph in the execution phase.\n",
    "\n",
    "**In other words:**\n",
    "\n",
    "The TensorFlow code above only assembles the graph to perform a matrix multiplication operation on our two constant input matrices.\n",
    "\n",
    "To actually run the graph and retrieve the resulting matrix, we need to create a session and run the matrix multiplication operation through it:"
   ]
  },
  {
   "cell_type": "code",
   "execution_count": 4,
   "metadata": {
    "collapsed": false
   },
   "outputs": [
    {
     "name": "stdout",
     "output_type": "stream",
     "text": [
      "[array([[ -26.,    2.],\n",
      "       [ 106.,  -16.]], dtype=float32)]\n"
     ]
    }
   ],
   "source": [
    "with tf.Session() as sess:\n",
    "  output = sess.run( [ Z ] )\n",
    "  print output"
   ]
  },
  {
   "cell_type": "code",
   "execution_count": null,
   "metadata": {
    "collapsed": true
   },
   "outputs": [],
   "source": []
  }
 ],
 "metadata": {
  "kernelspec": {
   "display_name": "Python 2",
   "language": "python",
   "name": "python2"
  },
  "language_info": {
   "codemirror_mode": {
    "name": "ipython",
    "version": 2
   },
   "file_extension": ".py",
   "mimetype": "text/x-python",
   "name": "python",
   "nbconvert_exporter": "python",
   "pygments_lexer": "ipython2",
   "version": "2.7.6"
  }
 },
 "nbformat": 4,
 "nbformat_minor": 0
}
